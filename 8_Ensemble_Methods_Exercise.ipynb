{
  "nbformat": 4,
  "nbformat_minor": 0,
  "metadata": {
    "colab": {
      "provenance": []
    },
    "kernelspec": {
      "name": "python3",
      "display_name": "Python 3"
    },
    "language_info": {
      "name": "python"
    }
  },
  "cells": [
    {
      "cell_type": "code",
      "execution_count": 1,
      "metadata": {
        "colab": {
          "base_uri": "https://localhost:8080/"
        },
        "id": "tdzXw8wtVwwC",
        "outputId": "883d8935-6146-4c39-8db6-3045c90f3f16"
      },
      "outputs": [
        {
          "output_type": "stream",
          "name": "stdout",
          "text": [
            "Collecting dmba\n",
            "  Downloading dmba-0.2.4-py3-none-any.whl (11.8 MB)\n",
            "\u001b[2K     \u001b[90m━━━━━━━━━━━━━━━━━━━━━━━━━━━━━━━━━━━━━━━━\u001b[0m \u001b[32m11.8/11.8 MB\u001b[0m \u001b[31m2.0 MB/s\u001b[0m eta \u001b[36m0:00:00\u001b[0m\n",
            "\u001b[?25hRequirement already satisfied: graphviz in /usr/local/lib/python3.10/dist-packages (from dmba) (0.20.1)\n",
            "Requirement already satisfied: matplotlib in /usr/local/lib/python3.10/dist-packages (from dmba) (3.7.1)\n",
            "Requirement already satisfied: numpy in /usr/local/lib/python3.10/dist-packages (from dmba) (1.23.5)\n",
            "Requirement already satisfied: pandas in /usr/local/lib/python3.10/dist-packages (from dmba) (1.5.3)\n",
            "Requirement already satisfied: scikit-learn in /usr/local/lib/python3.10/dist-packages (from dmba) (1.2.2)\n",
            "Requirement already satisfied: scipy in /usr/local/lib/python3.10/dist-packages (from dmba) (1.11.4)\n",
            "Requirement already satisfied: contourpy>=1.0.1 in /usr/local/lib/python3.10/dist-packages (from matplotlib->dmba) (1.2.0)\n",
            "Requirement already satisfied: cycler>=0.10 in /usr/local/lib/python3.10/dist-packages (from matplotlib->dmba) (0.12.1)\n",
            "Requirement already satisfied: fonttools>=4.22.0 in /usr/local/lib/python3.10/dist-packages (from matplotlib->dmba) (4.45.1)\n",
            "Requirement already satisfied: kiwisolver>=1.0.1 in /usr/local/lib/python3.10/dist-packages (from matplotlib->dmba) (1.4.5)\n",
            "Requirement already satisfied: packaging>=20.0 in /usr/local/lib/python3.10/dist-packages (from matplotlib->dmba) (23.2)\n",
            "Requirement already satisfied: pillow>=6.2.0 in /usr/local/lib/python3.10/dist-packages (from matplotlib->dmba) (9.4.0)\n",
            "Requirement already satisfied: pyparsing>=2.3.1 in /usr/local/lib/python3.10/dist-packages (from matplotlib->dmba) (3.1.1)\n",
            "Requirement already satisfied: python-dateutil>=2.7 in /usr/local/lib/python3.10/dist-packages (from matplotlib->dmba) (2.8.2)\n",
            "Requirement already satisfied: pytz>=2020.1 in /usr/local/lib/python3.10/dist-packages (from pandas->dmba) (2023.3.post1)\n",
            "Requirement already satisfied: joblib>=1.1.1 in /usr/local/lib/python3.10/dist-packages (from scikit-learn->dmba) (1.3.2)\n",
            "Requirement already satisfied: threadpoolctl>=2.0.0 in /usr/local/lib/python3.10/dist-packages (from scikit-learn->dmba) (3.2.0)\n",
            "Requirement already satisfied: six>=1.5 in /usr/local/lib/python3.10/dist-packages (from python-dateutil>=2.7->matplotlib->dmba) (1.16.0)\n",
            "Installing collected packages: dmba\n",
            "Successfully installed dmba-0.2.4\n"
          ]
        }
      ],
      "source": [
        "!pip install dmba"
      ]
    },
    {
      "cell_type": "code",
      "source": [
        "%matplotlib inline\n",
        "\n",
        "from pathlib import Path\n",
        "import random\n",
        "\n",
        "import pandas as pd\n",
        "from sklearn import preprocessing\n",
        "from sklearn.linear_model import LogisticRegression\n",
        "from sklearn.tree import DecisionTreeClassifier\n",
        "from sklearn.naive_bayes import MultinomialNB\n",
        "from sklearn.metrics import accuracy_score\n",
        "from sklearn.ensemble import AdaBoostClassifier\n",
        "from sklearn.ensemble import BaggingClassifier\n",
        "from sklearn.ensemble import RandomForestClassifier\n",
        "from sklearn.neighbors import KNeighborsClassifier\n",
        "from sklearn.model_selection import train_test_split, GridSearchCV\n",
        "import matplotlib.pylab as plt\n",
        "\n",
        "import dmba\n",
        "from dmba import classificationSummary\n",
        "from dmba import gainsChart, liftChart\n",
        "\n",
        "DATA = Path('.').resolve().parent / 'data'"
      ],
      "metadata": {
        "colab": {
          "base_uri": "https://localhost:8080/"
        },
        "id": "4YTwXAJVWieK",
        "outputId": "0f9a501b-6d9b-412f-dfcd-a5b84597c714"
      },
      "execution_count": 2,
      "outputs": [
        {
          "output_type": "stream",
          "name": "stdout",
          "text": [
            "Colab environment detected.\n"
          ]
        }
      ]
    },
    {
      "cell_type": "markdown",
      "source": [
        "### eBay Auctions - Boosting and Bagging\n",
        "Using the eBay auction data (file _eBayAuctions.csv_ ) with variable Competitive as the outcome variable, partition the data into training (60%) and validation (40%)."
      ],
      "metadata": {
        "id": "rgs6XXAsWyPo"
      }
    },
    {
      "cell_type": "code",
      "source": [
        "ebay_df = dmba.load_data('eBayAuctions.csv')\n",
        "ebay_df.head()\n"
      ],
      "metadata": {
        "colab": {
          "base_uri": "https://localhost:8080/",
          "height": 206
        },
        "id": "HMzJT_CGWnee",
        "outputId": "6b6bbe64-4b2e-4a29-cbb0-119d6e54e2e9"
      },
      "execution_count": 3,
      "outputs": [
        {
          "output_type": "execute_result",
          "data": {
            "text/plain": [
              "           Category currency  sellerRating  Duration endDay  ClosePrice  \\\n",
              "0  Music/Movie/Game       US          3249         5    Mon        0.01   \n",
              "1  Music/Movie/Game       US          3249         5    Mon        0.01   \n",
              "2  Music/Movie/Game       US          3249         5    Mon        0.01   \n",
              "3  Music/Movie/Game       US          3249         5    Mon        0.01   \n",
              "4  Music/Movie/Game       US          3249         5    Mon        0.01   \n",
              "\n",
              "   OpenPrice  Competitive?  \n",
              "0       0.01             0  \n",
              "1       0.01             0  \n",
              "2       0.01             0  \n",
              "3       0.01             0  \n",
              "4       0.01             0  "
            ],
            "text/html": [
              "\n",
              "  <div id=\"df-8dd6c069-a107-4429-bbb9-67406f345dc7\" class=\"colab-df-container\">\n",
              "    <div>\n",
              "<style scoped>\n",
              "    .dataframe tbody tr th:only-of-type {\n",
              "        vertical-align: middle;\n",
              "    }\n",
              "\n",
              "    .dataframe tbody tr th {\n",
              "        vertical-align: top;\n",
              "    }\n",
              "\n",
              "    .dataframe thead th {\n",
              "        text-align: right;\n",
              "    }\n",
              "</style>\n",
              "<table border=\"1\" class=\"dataframe\">\n",
              "  <thead>\n",
              "    <tr style=\"text-align: right;\">\n",
              "      <th></th>\n",
              "      <th>Category</th>\n",
              "      <th>currency</th>\n",
              "      <th>sellerRating</th>\n",
              "      <th>Duration</th>\n",
              "      <th>endDay</th>\n",
              "      <th>ClosePrice</th>\n",
              "      <th>OpenPrice</th>\n",
              "      <th>Competitive?</th>\n",
              "    </tr>\n",
              "  </thead>\n",
              "  <tbody>\n",
              "    <tr>\n",
              "      <th>0</th>\n",
              "      <td>Music/Movie/Game</td>\n",
              "      <td>US</td>\n",
              "      <td>3249</td>\n",
              "      <td>5</td>\n",
              "      <td>Mon</td>\n",
              "      <td>0.01</td>\n",
              "      <td>0.01</td>\n",
              "      <td>0</td>\n",
              "    </tr>\n",
              "    <tr>\n",
              "      <th>1</th>\n",
              "      <td>Music/Movie/Game</td>\n",
              "      <td>US</td>\n",
              "      <td>3249</td>\n",
              "      <td>5</td>\n",
              "      <td>Mon</td>\n",
              "      <td>0.01</td>\n",
              "      <td>0.01</td>\n",
              "      <td>0</td>\n",
              "    </tr>\n",
              "    <tr>\n",
              "      <th>2</th>\n",
              "      <td>Music/Movie/Game</td>\n",
              "      <td>US</td>\n",
              "      <td>3249</td>\n",
              "      <td>5</td>\n",
              "      <td>Mon</td>\n",
              "      <td>0.01</td>\n",
              "      <td>0.01</td>\n",
              "      <td>0</td>\n",
              "    </tr>\n",
              "    <tr>\n",
              "      <th>3</th>\n",
              "      <td>Music/Movie/Game</td>\n",
              "      <td>US</td>\n",
              "      <td>3249</td>\n",
              "      <td>5</td>\n",
              "      <td>Mon</td>\n",
              "      <td>0.01</td>\n",
              "      <td>0.01</td>\n",
              "      <td>0</td>\n",
              "    </tr>\n",
              "    <tr>\n",
              "      <th>4</th>\n",
              "      <td>Music/Movie/Game</td>\n",
              "      <td>US</td>\n",
              "      <td>3249</td>\n",
              "      <td>5</td>\n",
              "      <td>Mon</td>\n",
              "      <td>0.01</td>\n",
              "      <td>0.01</td>\n",
              "      <td>0</td>\n",
              "    </tr>\n",
              "  </tbody>\n",
              "</table>\n",
              "</div>\n",
              "    <div class=\"colab-df-buttons\">\n",
              "\n",
              "  <div class=\"colab-df-container\">\n",
              "    <button class=\"colab-df-convert\" onclick=\"convertToInteractive('df-8dd6c069-a107-4429-bbb9-67406f345dc7')\"\n",
              "            title=\"Convert this dataframe to an interactive table.\"\n",
              "            style=\"display:none;\">\n",
              "\n",
              "  <svg xmlns=\"http://www.w3.org/2000/svg\" height=\"24px\" viewBox=\"0 -960 960 960\">\n",
              "    <path d=\"M120-120v-720h720v720H120Zm60-500h600v-160H180v160Zm220 220h160v-160H400v160Zm0 220h160v-160H400v160ZM180-400h160v-160H180v160Zm440 0h160v-160H620v160ZM180-180h160v-160H180v160Zm440 0h160v-160H620v160Z\"/>\n",
              "  </svg>\n",
              "    </button>\n",
              "\n",
              "  <style>\n",
              "    .colab-df-container {\n",
              "      display:flex;\n",
              "      gap: 12px;\n",
              "    }\n",
              "\n",
              "    .colab-df-convert {\n",
              "      background-color: #E8F0FE;\n",
              "      border: none;\n",
              "      border-radius: 50%;\n",
              "      cursor: pointer;\n",
              "      display: none;\n",
              "      fill: #1967D2;\n",
              "      height: 32px;\n",
              "      padding: 0 0 0 0;\n",
              "      width: 32px;\n",
              "    }\n",
              "\n",
              "    .colab-df-convert:hover {\n",
              "      background-color: #E2EBFA;\n",
              "      box-shadow: 0px 1px 2px rgba(60, 64, 67, 0.3), 0px 1px 3px 1px rgba(60, 64, 67, 0.15);\n",
              "      fill: #174EA6;\n",
              "    }\n",
              "\n",
              "    .colab-df-buttons div {\n",
              "      margin-bottom: 4px;\n",
              "    }\n",
              "\n",
              "    [theme=dark] .colab-df-convert {\n",
              "      background-color: #3B4455;\n",
              "      fill: #D2E3FC;\n",
              "    }\n",
              "\n",
              "    [theme=dark] .colab-df-convert:hover {\n",
              "      background-color: #434B5C;\n",
              "      box-shadow: 0px 1px 3px 1px rgba(0, 0, 0, 0.15);\n",
              "      filter: drop-shadow(0px 1px 2px rgba(0, 0, 0, 0.3));\n",
              "      fill: #FFFFFF;\n",
              "    }\n",
              "  </style>\n",
              "\n",
              "    <script>\n",
              "      const buttonEl =\n",
              "        document.querySelector('#df-8dd6c069-a107-4429-bbb9-67406f345dc7 button.colab-df-convert');\n",
              "      buttonEl.style.display =\n",
              "        google.colab.kernel.accessAllowed ? 'block' : 'none';\n",
              "\n",
              "      async function convertToInteractive(key) {\n",
              "        const element = document.querySelector('#df-8dd6c069-a107-4429-bbb9-67406f345dc7');\n",
              "        const dataTable =\n",
              "          await google.colab.kernel.invokeFunction('convertToInteractive',\n",
              "                                                    [key], {});\n",
              "        if (!dataTable) return;\n",
              "\n",
              "        const docLinkHtml = 'Like what you see? Visit the ' +\n",
              "          '<a target=\"_blank\" href=https://colab.research.google.com/notebooks/data_table.ipynb>data table notebook</a>'\n",
              "          + ' to learn more about interactive tables.';\n",
              "        element.innerHTML = '';\n",
              "        dataTable['output_type'] = 'display_data';\n",
              "        await google.colab.output.renderOutput(dataTable, element);\n",
              "        const docLink = document.createElement('div');\n",
              "        docLink.innerHTML = docLinkHtml;\n",
              "        element.appendChild(docLink);\n",
              "      }\n",
              "    </script>\n",
              "  </div>\n",
              "\n",
              "\n",
              "<div id=\"df-98ab521e-ddf7-4c65-9d34-88a8c754ab59\">\n",
              "  <button class=\"colab-df-quickchart\" onclick=\"quickchart('df-98ab521e-ddf7-4c65-9d34-88a8c754ab59')\"\n",
              "            title=\"Suggest charts\"\n",
              "            style=\"display:none;\">\n",
              "\n",
              "<svg xmlns=\"http://www.w3.org/2000/svg\" height=\"24px\"viewBox=\"0 0 24 24\"\n",
              "     width=\"24px\">\n",
              "    <g>\n",
              "        <path d=\"M19 3H5c-1.1 0-2 .9-2 2v14c0 1.1.9 2 2 2h14c1.1 0 2-.9 2-2V5c0-1.1-.9-2-2-2zM9 17H7v-7h2v7zm4 0h-2V7h2v10zm4 0h-2v-4h2v4z\"/>\n",
              "    </g>\n",
              "</svg>\n",
              "  </button>\n",
              "\n",
              "<style>\n",
              "  .colab-df-quickchart {\n",
              "      --bg-color: #E8F0FE;\n",
              "      --fill-color: #1967D2;\n",
              "      --hover-bg-color: #E2EBFA;\n",
              "      --hover-fill-color: #174EA6;\n",
              "      --disabled-fill-color: #AAA;\n",
              "      --disabled-bg-color: #DDD;\n",
              "  }\n",
              "\n",
              "  [theme=dark] .colab-df-quickchart {\n",
              "      --bg-color: #3B4455;\n",
              "      --fill-color: #D2E3FC;\n",
              "      --hover-bg-color: #434B5C;\n",
              "      --hover-fill-color: #FFFFFF;\n",
              "      --disabled-bg-color: #3B4455;\n",
              "      --disabled-fill-color: #666;\n",
              "  }\n",
              "\n",
              "  .colab-df-quickchart {\n",
              "    background-color: var(--bg-color);\n",
              "    border: none;\n",
              "    border-radius: 50%;\n",
              "    cursor: pointer;\n",
              "    display: none;\n",
              "    fill: var(--fill-color);\n",
              "    height: 32px;\n",
              "    padding: 0;\n",
              "    width: 32px;\n",
              "  }\n",
              "\n",
              "  .colab-df-quickchart:hover {\n",
              "    background-color: var(--hover-bg-color);\n",
              "    box-shadow: 0 1px 2px rgba(60, 64, 67, 0.3), 0 1px 3px 1px rgba(60, 64, 67, 0.15);\n",
              "    fill: var(--button-hover-fill-color);\n",
              "  }\n",
              "\n",
              "  .colab-df-quickchart-complete:disabled,\n",
              "  .colab-df-quickchart-complete:disabled:hover {\n",
              "    background-color: var(--disabled-bg-color);\n",
              "    fill: var(--disabled-fill-color);\n",
              "    box-shadow: none;\n",
              "  }\n",
              "\n",
              "  .colab-df-spinner {\n",
              "    border: 2px solid var(--fill-color);\n",
              "    border-color: transparent;\n",
              "    border-bottom-color: var(--fill-color);\n",
              "    animation:\n",
              "      spin 1s steps(1) infinite;\n",
              "  }\n",
              "\n",
              "  @keyframes spin {\n",
              "    0% {\n",
              "      border-color: transparent;\n",
              "      border-bottom-color: var(--fill-color);\n",
              "      border-left-color: var(--fill-color);\n",
              "    }\n",
              "    20% {\n",
              "      border-color: transparent;\n",
              "      border-left-color: var(--fill-color);\n",
              "      border-top-color: var(--fill-color);\n",
              "    }\n",
              "    30% {\n",
              "      border-color: transparent;\n",
              "      border-left-color: var(--fill-color);\n",
              "      border-top-color: var(--fill-color);\n",
              "      border-right-color: var(--fill-color);\n",
              "    }\n",
              "    40% {\n",
              "      border-color: transparent;\n",
              "      border-right-color: var(--fill-color);\n",
              "      border-top-color: var(--fill-color);\n",
              "    }\n",
              "    60% {\n",
              "      border-color: transparent;\n",
              "      border-right-color: var(--fill-color);\n",
              "    }\n",
              "    80% {\n",
              "      border-color: transparent;\n",
              "      border-right-color: var(--fill-color);\n",
              "      border-bottom-color: var(--fill-color);\n",
              "    }\n",
              "    90% {\n",
              "      border-color: transparent;\n",
              "      border-bottom-color: var(--fill-color);\n",
              "    }\n",
              "  }\n",
              "</style>\n",
              "\n",
              "  <script>\n",
              "    async function quickchart(key) {\n",
              "      const quickchartButtonEl =\n",
              "        document.querySelector('#' + key + ' button');\n",
              "      quickchartButtonEl.disabled = true;  // To prevent multiple clicks.\n",
              "      quickchartButtonEl.classList.add('colab-df-spinner');\n",
              "      try {\n",
              "        const charts = await google.colab.kernel.invokeFunction(\n",
              "            'suggestCharts', [key], {});\n",
              "      } catch (error) {\n",
              "        console.error('Error during call to suggestCharts:', error);\n",
              "      }\n",
              "      quickchartButtonEl.classList.remove('colab-df-spinner');\n",
              "      quickchartButtonEl.classList.add('colab-df-quickchart-complete');\n",
              "    }\n",
              "    (() => {\n",
              "      let quickchartButtonEl =\n",
              "        document.querySelector('#df-98ab521e-ddf7-4c65-9d34-88a8c754ab59 button');\n",
              "      quickchartButtonEl.style.display =\n",
              "        google.colab.kernel.accessAllowed ? 'block' : 'none';\n",
              "    })();\n",
              "  </script>\n",
              "</div>\n",
              "    </div>\n",
              "  </div>\n"
            ]
          },
          "metadata": {},
          "execution_count": 3
        }
      ]
    },
    {
      "cell_type": "code",
      "source": [
        "# convert categorical variables into indicator and drop the first column of each of them\n",
        "ebay_df = pd.get_dummies(ebay_df, prefix_sep='_', drop_first=True)\n",
        "\n",
        "y = ebay_df['Competitive?']\n",
        "X = ebay_df.drop(columns=['Competitive?'])\n",
        "\n",
        "# partition data\n",
        "train_X, valid_X, train_y, valid_y = train_test_split(X, y, test_size=0.4, random_state=1)\n"
      ],
      "metadata": {
        "id": "AKBKf1c_W0wC"
      },
      "execution_count": 4,
      "outputs": []
    },
    {
      "cell_type": "markdown",
      "source": [
        "Run a classification tree, using the default settings of `DecisionTreeClassifier`.\n"
      ],
      "metadata": {
        "id": "oxGkHeJPXID6"
      }
    },
    {
      "cell_type": "code",
      "source": [
        "classTree = DecisionTreeClassifier(random_state=1)\n",
        "classTree.fit(train_X, train_y)\n",
        "\n",
        "classificationSummary(valid_y, classTree.predict(valid_X))"
      ],
      "metadata": {
        "colab": {
          "base_uri": "https://localhost:8080/"
        },
        "id": "lNTg_mpjW3Uo",
        "outputId": "26989b52-44ea-420c-b0c9-6bbfecbf6018"
      },
      "execution_count": 5,
      "outputs": [
        {
          "output_type": "stream",
          "name": "stdout",
          "text": [
            "Confusion Matrix (Accuracy 0.8758)\n",
            "\n",
            "       Prediction\n",
            "Actual   0   1\n",
            "     0 315  38\n",
            "     1  60 376\n"
          ]
        }
      ]
    },
    {
      "cell_type": "code",
      "source": [
        "# Create the information for the lift chart\n",
        "proba = classTree.predict_proba(valid_X)\n",
        "result = pd.DataFrame({'actual': valid_y,\n",
        "                       'p(0)': [p[0] for p in proba],\n",
        "                       'p(1)': [p[1] for p in proba],\n",
        "                       'predicted': classTree.predict(valid_X) })\n",
        "\n",
        "df = result.sort_values(by=['p(1)'], ascending=False)\n",
        "liftChart(df['p(1)'], title=False)\n",
        "plt.show()"
      ],
      "metadata": {
        "colab": {
          "base_uri": "https://localhost:8080/",
          "height": 462
        },
        "id": "lhyX1A1oXKh4",
        "outputId": "38a75a98-4fbc-4f33-a771-d77462835b9d"
      },
      "execution_count": 6,
      "outputs": [
        {
          "output_type": "display_data",
          "data": {
            "text/plain": [
              "<Figure size 640x480 with 1 Axes>"
            ],
            "image/png": "[encoded data removed]"
          },
          "metadata": {}
        }
      ]
    },
    {
      "cell_type": "markdown",
      "source": [
        "Run a boosted tree with the same predictors (use `AdaBoostClassifier` with `DecisionTreeClassifier`\n",
        "as the base estimator).\n"
      ],
      "metadata": {
        "id": "C_yPx1c5XT8a"
      }
    },
    {
      "cell_type": "code",
      "source": [
        "boost = AdaBoostClassifier(n_estimators=100, base_estimator=classTree, random_state=1)\n",
        "boost.fit(train_X, train_y)\n",
        "\n",
        "classificationSummary(valid_y, boost.predict(valid_X))"
      ],
      "metadata": {
        "colab": {
          "base_uri": "https://localhost:8080/"
        },
        "id": "Yj18WzvqXNEZ",
        "outputId": "a8c69720-c51e-4cff-964f-da43d78b65f5"
      },
      "execution_count": 13,
      "outputs": [
        {
          "output_type": "stream",
          "name": "stderr",
          "text": [
            "/usr/local/lib/python3.10/dist-packages/sklearn/ensemble/_base.py:166: FutureWarning: `base_estimator` was renamed to `estimator` in version 1.2 and will be removed in 1.4.\n",
            "  warnings.warn(\n"
          ]
        },
        {
          "output_type": "stream",
          "name": "stdout",
          "text": [
            "Confusion Matrix (Accuracy 0.8682)\n",
            "\n",
            "       Prediction\n",
            "Actual   0   1\n",
            "     0 308  45\n",
            "     1  59 377\n"
          ]
        }
      ]
    },
    {
      "cell_type": "code",
      "source": [
        "# Create the information for the lift chart\n",
        "proba = boost.predict_proba(valid_X)\n",
        "result = pd.DataFrame({'actual': valid_y,\n",
        "                       'p(0)': [p[0] for p in proba],\n",
        "                       'p(1)': [p[1] for p in proba],\n",
        "                       'predicted': boost.predict(valid_X) })\n",
        "\n",
        "df = result.sort_values(by=['p(1)'], ascending=False)\n",
        "liftChart(df['p(1)'], title=False)\n",
        "plt.show()"
      ],
      "metadata": {
        "colab": {
          "base_uri": "https://localhost:8080/",
          "height": 462
        },
        "id": "NOGMZbTtXXtU",
        "outputId": "a5671582-6555-494f-a602-bd0cfb4df337"
      },
      "execution_count": 8,
      "outputs": [
        {
          "output_type": "display_data",
          "data": {
            "text/plain": [
              "<Figure size 640x480 with 1 Axes>"
            ],
            "image/png": "[encoded data removed]"
          },
          "metadata": {}
        }
      ]
    },
    {
      "cell_type": "markdown",
      "source": [
        "Run a bagged tree with the same predictors (use `BaggingClassifier`).\n"
      ],
      "metadata": {
        "id": "NNvemjzCXoXD"
      }
    },
    {
      "cell_type": "code",
      "source": [
        "bagging = BaggingClassifier(classTree, max_samples=0.5, max_features=0.5, random_state=1)\n",
        "bagging.fit(train_X, train_y)\n",
        "\n",
        "classificationSummary(valid_y, bagging.predict(valid_X))"
      ],
      "metadata": {
        "colab": {
          "base_uri": "https://localhost:8080/"
        },
        "id": "CGSHZfrfXfBc",
        "outputId": "7f859b67-6714-4453-aff5-189a491f6590"
      },
      "execution_count": 9,
      "outputs": [
        {
          "output_type": "stream",
          "name": "stdout",
          "text": [
            "Confusion Matrix (Accuracy 0.7567)\n",
            "\n",
            "       Prediction\n",
            "Actual   0   1\n",
            "     0 262  91\n",
            "     1 101 335\n"
          ]
        }
      ]
    },
    {
      "cell_type": "code",
      "source": [
        "# Create the information for the lift chart\n",
        "proba = bagging.predict_proba(valid_X)\n",
        "result = pd.DataFrame({'actual': valid_y,\n",
        "                       'p(0)': [p[0] for p in proba],\n",
        "                       'p(1)': [p[1] for p in proba],\n",
        "                       'predicted': bagging.predict(valid_X) })\n",
        "\n",
        "df = result.sort_values(by=['p(1)'], ascending=False)\n",
        "liftChart(df['p(1)'], title=False)\n",
        "plt.show()"
      ],
      "metadata": {
        "colab": {
          "base_uri": "https://localhost:8080/",
          "height": 466
        },
        "id": "GGc2ubc_Xqin",
        "outputId": "8a76ba6b-7690-46bd-a889-b880d269a3d6"
      },
      "execution_count": 10,
      "outputs": [
        {
          "output_type": "display_data",
          "data": {
            "text/plain": [
              "<Figure size 640x480 with 1 Axes>"
            ],
            "image/png": "[encoded data removed]"
          },
          "metadata": {}
        }
      ]
    },
    {
      "cell_type": "markdown",
      "source": [
        "Run a random forest (use `RandomForestClassifier`)."
      ],
      "metadata": {
        "id": "TZsF1mmkXyOJ"
      }
    },
    {
      "cell_type": "code",
      "source": [
        "rfModel = RandomForestClassifier(random_state=1, n_estimators=100)\n",
        "rfModel.fit(train_X, train_y)\n",
        "\n",
        "classificationSummary(valid_y, rfModel.predict(valid_X))"
      ],
      "metadata": {
        "colab": {
          "base_uri": "https://localhost:8080/"
        },
        "id": "p6R_RI3IXtfT",
        "outputId": "52e953a0-d72f-4547-a368-09d4e88a0179"
      },
      "execution_count": 11,
      "outputs": [
        {
          "output_type": "stream",
          "name": "stdout",
          "text": [
            "Confusion Matrix (Accuracy 0.8644)\n",
            "\n",
            "       Prediction\n",
            "Actual   0   1\n",
            "     0 320  33\n",
            "     1  74 362\n"
          ]
        }
      ]
    },
    {
      "cell_type": "code",
      "source": [
        "# Create the information for the lift chart\n",
        "proba = rfModel.predict_proba(valid_X)\n",
        "result = pd.DataFrame({'actual': valid_y,\n",
        "                       'p(0)': [p[0] for p in proba],\n",
        "                       'p(1)': [p[1] for p in proba],\n",
        "                       'predicted': rfModel.predict(valid_X) })\n",
        "\n",
        "df = result.sort_values(by=['p(1)'], ascending=False)\n",
        "liftChart(df['p(1)'], title=False)\n",
        "plt.show()"
      ],
      "metadata": {
        "colab": {
          "base_uri": "https://localhost:8080/",
          "height": 462
        },
        "id": "gX7EJJ93X0GN",
        "outputId": "011557a7-ee5b-4302-c5d6-5e7fbc672af2"
      },
      "execution_count": 12,
      "outputs": [
        {
          "output_type": "display_data",
          "data": {
            "text/plain": [
              "<Figure size 640x480 with 1 Axes>"
            ],
            "image/png": "[encoded data removed]"
          },
          "metadata": {}
        }
      ]
    },
    {
      "cell_type": "code",
      "source": [],
      "metadata": {
        "id": "7IzQXyxwX2nV"
      },
      "execution_count": null,
      "outputs": []
    }
  ]
}