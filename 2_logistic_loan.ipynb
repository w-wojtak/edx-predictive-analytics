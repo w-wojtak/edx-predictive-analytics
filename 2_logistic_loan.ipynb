{
  "nbformat": 4,
  "nbformat_minor": 0,
  "metadata": {
    "colab": {
      "provenance": []
    },
    "kernelspec": {
      "name": "python3",
      "display_name": "Python 3"
    },
    "language_info": {
      "name": "python"
    }
  },
  "cells": [
    {
      "cell_type": "code",
      "source": [
        "!pip install mord"
      ],
      "metadata": {
        "colab": {
          "base_uri": "https://localhost:8080/"
        },
        "id": "Tc8hurrBraJ5",
        "outputId": "d0638587-41ae-4b73-f59d-03b6e8329408"
      },
      "execution_count": null,
      "outputs": [
        {
          "output_type": "stream",
          "name": "stdout",
          "text": [
            "Collecting mord\n",
            "  Downloading mord-0.7.tar.gz (8.6 kB)\n",
            "  Preparing metadata (setup.py) ... \u001b[?25l\u001b[?25hdone\n",
            "Building wheels for collected packages: mord\n",
            "  Building wheel for mord (setup.py) ... \u001b[?25l\u001b[?25hdone\n",
            "  Created wheel for mord: filename=mord-0.7-py3-none-any.whl size=9886 sha256=31b0707b7c029a05c38c3604d5ab038efc0bd18ad32c287574504a35fcf60b7b\n",
            "  Stored in directory: /root/.cache/pip/wheels/77/00/19/3cea86fbfc737ec4acb515cd94497dcc33f943fa157548b96c\n",
            "Successfully built mord\n",
            "Installing collected packages: mord\n",
            "Successfully installed mord-0.7\n"
          ]
        }
      ]
    },
    {
      "cell_type": "code",
      "source": [
        "!pip install dmba"
      ],
      "metadata": {
        "colab": {
          "base_uri": "https://localhost:8080/"
        },
        "id": "z4sVinCbrgYN",
        "outputId": "4031080c-bc16-4bed-f18f-6451d3121919"
      },
      "execution_count": null,
      "outputs": [
        {
          "output_type": "stream",
          "name": "stdout",
          "text": [
            "Collecting dmba\n",
            "  Downloading dmba-0.2.4-py3-none-any.whl (11.8 MB)\n",
            "\u001b[2K     \u001b[90m━━━━━━━━━━━━━━━━━━━━━━━━━━━━━━━━━━━━━━━━\u001b[0m \u001b[32m11.8/11.8 MB\u001b[0m \u001b[31m31.2 MB/s\u001b[0m eta \u001b[36m0:00:00\u001b[0m\n",
            "\u001b[?25hRequirement already satisfied: graphviz in /usr/local/lib/python3.10/dist-packages (from dmba) (0.20.1)\n",
            "Requirement already satisfied: matplotlib in /usr/local/lib/python3.10/dist-packages (from dmba) (3.7.1)\n",
            "Requirement already satisfied: numpy in /usr/local/lib/python3.10/dist-packages (from dmba) (1.23.5)\n",
            "Requirement already satisfied: pandas in /usr/local/lib/python3.10/dist-packages (from dmba) (1.5.3)\n",
            "Requirement already satisfied: scikit-learn in /usr/local/lib/python3.10/dist-packages (from dmba) (1.2.2)\n",
            "Requirement already satisfied: scipy in /usr/local/lib/python3.10/dist-packages (from dmba) (1.11.3)\n",
            "Requirement already satisfied: contourpy>=1.0.1 in /usr/local/lib/python3.10/dist-packages (from matplotlib->dmba) (1.2.0)\n",
            "Requirement already satisfied: cycler>=0.10 in /usr/local/lib/python3.10/dist-packages (from matplotlib->dmba) (0.12.1)\n",
            "Requirement already satisfied: fonttools>=4.22.0 in /usr/local/lib/python3.10/dist-packages (from matplotlib->dmba) (4.44.3)\n",
            "Requirement already satisfied: kiwisolver>=1.0.1 in /usr/local/lib/python3.10/dist-packages (from matplotlib->dmba) (1.4.5)\n",
            "Requirement already satisfied: packaging>=20.0 in /usr/local/lib/python3.10/dist-packages (from matplotlib->dmba) (23.2)\n",
            "Requirement already satisfied: pillow>=6.2.0 in /usr/local/lib/python3.10/dist-packages (from matplotlib->dmba) (9.4.0)\n",
            "Requirement already satisfied: pyparsing>=2.3.1 in /usr/local/lib/python3.10/dist-packages (from matplotlib->dmba) (3.1.1)\n",
            "Requirement already satisfied: python-dateutil>=2.7 in /usr/local/lib/python3.10/dist-packages (from matplotlib->dmba) (2.8.2)\n",
            "Requirement already satisfied: pytz>=2020.1 in /usr/local/lib/python3.10/dist-packages (from pandas->dmba) (2023.3.post1)\n",
            "Requirement already satisfied: joblib>=1.1.1 in /usr/local/lib/python3.10/dist-packages (from scikit-learn->dmba) (1.3.2)\n",
            "Requirement already satisfied: threadpoolctl>=2.0.0 in /usr/local/lib/python3.10/dist-packages (from scikit-learn->dmba) (3.2.0)\n",
            "Requirement already satisfied: six>=1.5 in /usr/local/lib/python3.10/dist-packages (from python-dateutil>=2.7->matplotlib->dmba) (1.16.0)\n",
            "Installing collected packages: dmba\n",
            "Successfully installed dmba-0.2.4\n"
          ]
        }
      ]
    },
    {
      "cell_type": "code",
      "execution_count": null,
      "metadata": {
        "colab": {
          "base_uri": "https://localhost:8080/"
        },
        "id": "TqmkF37zrJem",
        "outputId": "1c581c47-a692-4764-e50a-1e075b870233"
      },
      "outputs": [
        {
          "output_type": "stream",
          "name": "stdout",
          "text": [
            "Colab environment detected.\n"
          ]
        }
      ],
      "source": [
        "%matplotlib inline\n",
        "\n",
        "from pathlib import Path\n",
        "\n",
        "import numpy as np\n",
        "import pandas as pd\n",
        "from sklearn.linear_model import LogisticRegression, LogisticRegressionCV\n",
        "from sklearn.model_selection import train_test_split\n",
        "import statsmodels.api as sm\n",
        "from mord import LogisticIT\n",
        "import matplotlib.pylab as plt\n",
        "import seaborn as sns\n",
        "import dmba\n",
        "from dmba import classificationSummary, gainsChart, liftChart\n",
        "from dmba.metric import AIC_score\n"
      ]
    },
    {
      "cell_type": "markdown",
      "source": [
        "**Table 10.2**\n",
        "\n",
        "Load the UniversalBank.csv dataset. The columns ID and ZIP Code are not relevant for model building and therefore removed. Treat Education as categorical"
      ],
      "metadata": {
        "id": "p0YfEV6brnFI"
      }
    },
    {
      "cell_type": "code",
      "source": [
        "bank_df = dmba.load_data('UniversalBank.csv')\n",
        "bank_df.drop(columns=['ID', 'ZIP Code'], inplace=True)\n",
        "bank_df.columns = [c.replace(' ', '_') for c in bank_df.columns]\n",
        "\n",
        "# Treat education as categorical, convert to dummy variables\n",
        "bank_df['Education'] = bank_df['Education'].astype('category')\n",
        "new_categories = {1: 'Undergrad', 2: 'Graduate', 3: 'Advanced/Professional'}\n",
        "bank_df.Education.cat.rename_categories(new_categories, inplace=True)\n",
        "bank_df = pd.get_dummies(bank_df, prefix_sep='_', drop_first=True)\n",
        "\n",
        "y = bank_df['Personal_Loan']\n",
        "X = bank_df.drop(columns=['Personal_Loan'])\n",
        "\n",
        "# partition data\n",
        "train_X, valid_X, train_y, valid_y = train_test_split(X, y, test_size=0.4, random_state=1)\n",
        "\n",
        "# fit a logistic regression (set penalty=l2 and C=1e42 to avoid regularization)\n",
        "logit_reg = LogisticRegression(penalty=\"l2\", C=1e42, solver='liblinear')\n",
        "logit_reg.fit(train_X, train_y)\n",
        "\n",
        "print('intercept ', logit_reg.intercept_[0])\n",
        "print(pd.DataFrame({'coeff': logit_reg.coef_[0]}, index=X.columns).transpose())\n",
        "print()\n",
        "print('AIC', AIC_score(valid_y, logit_reg.predict(valid_X), df = len(train_X.columns) + 1))\n"
      ],
      "metadata": {
        "colab": {
          "base_uri": "https://localhost:8080/"
        },
        "id": "T83-iYjQrob9",
        "outputId": "064426af-a6a7-42c3-d173-343ba9c7a635"
      },
      "execution_count": null,
      "outputs": [
        {
          "output_type": "stream",
          "name": "stdout",
          "text": [
            "intercept  -12.493436061176814\n",
            "            Age  Experience    Income    Family     CCAvg  Mortgage  \\\n",
            "coeff -0.037685    0.039202  0.058844  0.612251  0.240489  0.001012   \n",
            "\n",
            "       Securities_Account  CD_Account    Online  CreditCard  \\\n",
            "coeff            -1.01428    3.649097 -0.678306   -0.958283   \n",
            "\n",
            "       Education_Graduate  Education_Advanced/Professional  \n",
            "coeff            4.202148                         4.355761  \n",
            "\n",
            "AIC -709.1524769205962\n"
          ]
        },
        {
          "output_type": "stream",
          "name": "stderr",
          "text": [
            "<ipython-input-6-08dfb0466a1b>:8: FutureWarning: The `inplace` parameter in pandas.Categorical.rename_categories is deprecated and will be removed in a future version. Removing unused categories will always return a new Categorical object.\n",
            "  bank_df.Education.cat.rename_categories(new_categories, inplace=True)\n"
          ]
        }
      ]
    },
    {
      "cell_type": "code",
      "source": [
        "# Set to True to calculate logistic regression using Income only\n",
        "if False:\n",
        "    predictors = ['Income']\n",
        "    outcome = 'Personal_Loan'\n",
        "\n",
        "    y = bank_df[outcome]\n",
        "    X = bank_df[predictors]\n",
        "\n",
        "    # partition data\n",
        "    train_X, valid_X, train_y, valid_y = train_test_split(X, y, test_size=0.4, random_state=1)\n",
        "\n",
        "    # fit a logistic regression (set penalty=l2 and C=1e42 to avoid regularization)\n",
        "    logit_reg_income = LogisticRegression(penalty=\"l2\", C=1e42, solver='liblinear')\n",
        "    logit_reg_income.fit(train_X, train_y)\n",
        "\n",
        "    print('intercept ', logit_reg_income.intercept_[0])\n",
        "    print(pd.DataFrame({'coefficient': logit_reg_income.coef_[0]}, index=X.columns).transpose())\n",
        "    print()\n",
        "    print('AIC', AIC_score(valid_y, logit_reg_income.predict(valid_X), df = len(train_X.columns) + 1))"
      ],
      "metadata": {
        "id": "948LMQJ_rrkO"
      },
      "execution_count": null,
      "outputs": []
    },
    {
      "cell_type": "code",
      "source": [
        "logit_reg_pred = logit_reg.predict(valid_X)\n",
        "logit_reg_proba = logit_reg.predict_proba(valid_X)\n",
        "logit_result = pd.DataFrame({'actual': valid_y,\n",
        "                             'p(0)': [p[0] for p in logit_reg_proba],\n",
        "                             'p(1)': [p[1] for p in logit_reg_proba],\n",
        "                             'predicted': logit_reg_pred })\n",
        "\n",
        "# display four different cases\n",
        "interestingCases = [2764, 932, 2721, 702]\n",
        "print(logit_result.loc[interestingCases])"
      ],
      "metadata": {
        "colab": {
          "base_uri": "https://localhost:8080/"
        },
        "id": "0lGqIM1ssnCw",
        "outputId": "acf3898e-2879-4c1b-c1c5-db1c052a8419"
      },
      "execution_count": null,
      "outputs": [
        {
          "output_type": "stream",
          "name": "stdout",
          "text": [
            "      actual      p(0)      p(1)  predicted\n",
            "2764       0  0.976092  0.023908          0\n",
            "932        0  0.331000  0.669000          1\n",
            "2721       1  0.031430  0.968570          1\n",
            "702        1  0.985893  0.014107          0\n"
          ]
        }
      ]
    },
    {
      "cell_type": "code",
      "source": [
        "classificationSummary(train_y, logit_reg.predict(train_X))\n",
        "classificationSummary(valid_y, logit_reg.predict(valid_X))"
      ],
      "metadata": {
        "colab": {
          "base_uri": "https://localhost:8080/"
        },
        "id": "W5cLuIIHst_r",
        "outputId": "c54c9747-2ac2-444e-bb51-421216dc0c9e"
      },
      "execution_count": null,
      "outputs": [
        {
          "output_type": "stream",
          "name": "stdout",
          "text": [
            "Confusion Matrix (Accuracy 0.9600)\n",
            "\n",
            "       Prediction\n",
            "Actual    0    1\n",
            "     0 2683   30\n",
            "     1   90  197\n",
            "Confusion Matrix (Accuracy 0.9595)\n",
            "\n",
            "       Prediction\n",
            "Actual    0    1\n",
            "     0 1791   16\n",
            "     1   65  128\n"
          ]
        }
      ]
    },
    {
      "cell_type": "code",
      "source": [
        "df = logit_result.sort_values(by=['p(1)'], ascending=False)\n",
        "fig, axes = plt.subplots(nrows=1, ncols=2, figsize=(10, 4))\n",
        "\n",
        "gainsChart(df.actual, ax=axes[0])\n",
        "liftChart(df.actual, title=False, ax=axes[1])\n",
        "\n",
        "plt.tight_layout()\n",
        "plt.show()"
      ],
      "metadata": {
        "colab": {
          "base_uri": "https://localhost:8080/",
          "height": 406
        },
        "id": "o0D-Nuk8sy1K",
        "outputId": "3dec2b71-ecd6-4b89-dd97-eea4171f9d2b"
      },
      "execution_count": null,
      "outputs": [
        {
          "output_type": "display_data",
          "data": {
            "text/plain": [
              "<Figure size 1000x400 with 2 Axes>"
            ],
            "image/png": "[encoded data removed]"
          },
          "metadata": {}
        }
      ]
    },
    {
      "cell_type": "code",
      "source": [],
      "metadata": {
        "id": "J_1qZeDHs1B6"
      },
      "execution_count": null,
      "outputs": []
    }
  ]
}